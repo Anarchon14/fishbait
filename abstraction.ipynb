{
 "cells": [
  {
   "cell_type": "code",
   "execution_count": 52,
   "metadata": {},
   "outputs": [],
   "source": [
    "from treys import Card\n",
    "from treys import Deck\n",
    "import collections\n",
    "from itertools import combinations"
   ]
  },
  {
   "cell_type": "code",
   "execution_count": 53,
   "metadata": {},
   "outputs": [],
   "source": [
    "deck = Deck.GetFullDeck()\n",
    "hands = []\n",
    "for i in range(0, len(deck)):\n",
    "    for j in range(i + 1, len(deck)):\n",
    "        hand = (i, j)\n",
    "        hands.append(hand)"
   ]
  },
  {
   "cell_type": "code",
   "execution_count": 54,
   "metadata": {},
   "outputs": [
    {
     "data": {
      "text/plain": [
       "'\\nhand_strengths = []\\nfor rollout in rollouts(our_hand):\\n    deck = deck - rollout - our_hand\\n    wins = 0\\n    for possible_opponent_hands in deck:\\n        wins += compute_win(hand, possible_oponent_hand, deck)\\n    hand_strength = wins / len(possible_opponent_hands)\\n    hand_strengths.append(hand_strength)\\n'"
      ]
     },
     "execution_count": 54,
     "metadata": {},
     "output_type": "execute_result"
    }
   ],
   "source": [
    "\"\"\"\n",
    "hand_strengths = []\n",
    "for rollout in rollouts(our_hand):\n",
    "    deck = deck - rollout - our_hand\n",
    "    wins = 0\n",
    "    for possible_opponent_hands in deck:\n",
    "        wins += compute_win(hand, possible_oponent_hand, deck)\n",
    "    hand_strength = wins / len(possible_opponent_hands)\n",
    "    hand_strengths.append(hand_strength)\n",
    "\"\"\""
   ]
  },
  {
   "cell_type": "code",
   "execution_count": 58,
   "metadata": {},
   "outputs": [
    {
     "name": "stdout",
     "output_type": "stream",
     "text": [
      "2118760\n"
     ]
    }
   ],
   "source": [
    "def rollouts(hand):\n",
    "    rem_cards = [i for i in range(0, 52) if i != hand[0] and i != hand[1]]\n",
    "    return combinations(rem_cards, 5)\n",
    "print(sum(1 for ignore in rollouts(hands[0])))"
   ]
  },
  {
   "cell_type": "code",
   "execution_count": null,
   "metadata": {},
   "outputs": [],
   "source": []
  }
 ],
 "metadata": {
  "kernelspec": {
   "display_name": "Python 3",
   "language": "python",
   "name": "python3"
  },
  "language_info": {
   "codemirror_mode": {
    "name": "ipython",
    "version": 3
   },
   "file_extension": ".py",
   "mimetype": "text/x-python",
   "name": "python",
   "nbconvert_exporter": "python",
   "pygments_lexer": "ipython3",
   "version": "3.7.7"
  }
 },
 "nbformat": 4,
 "nbformat_minor": 2
}
